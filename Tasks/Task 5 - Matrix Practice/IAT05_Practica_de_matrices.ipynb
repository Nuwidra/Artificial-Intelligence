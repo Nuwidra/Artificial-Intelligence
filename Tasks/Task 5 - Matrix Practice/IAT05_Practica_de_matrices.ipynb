{
  "cells": [
    {
      "cell_type": "markdown",
      "metadata": {
        "id": "TGvdZZ7C16o5"
      },
      "source": [
        "# ITCR - Sede Interuniversitaria de Alajuela\n",
        "# Curso IC-6200 - Inteligencia Artificial\n",
        "\n",
        "\n",
        "### Algebra lineal, vectores y matrices (utilizando Pytorch) \n",
        "### Tarea\n",
        "\n",
        "### Profesora: María Mora\n",
        "\n",
        "\n",
        "Medio de entrega: Por medio del TEC-Digital.\n",
        "\n",
        "Entregables: Un archivo en jupyter (.ipynb) y archivo de imagen empacados en un archivo .zip. \n",
        "\n",
        "Modo de trabajo: en grupos de máximo dos personas.\n",
        "\n",
        "Integrantes \n",
        "\n",
        "Rodolfo Cruz Vega - 2013235955\n",
        "\n",
        "Jonathan Quesada Salas - 2020023583\n",
        "\n",
        "---\n",
        "\n",
        "Objetivo: experimentar con conceptos elementales respecto a matrices para reforzar el conocimiento adquirido durante el estudio del material.\n",
        "\n",
        "Lenguaje a utilizar: Python con la librería Pytorch. Utilice en TODOS los ejercicios tensores de Pytorch para que cuando estos sean utilizados en aprendizaje profundo sean más fluidas las explicaciones y ejercicios. \n",
        "\n",
        "---\n"
      ]
    },
    {
      "cell_type": "markdown",
      "metadata": {
        "id": "tgcoZAm82q8Y"
      },
      "source": [
        "**Pregunta 1 (10 puntos)**\n",
        "\n",
        "Considerando que la transpuesta de una matriz es el resultado de cambiar las filas a columnas. Sea una matriz $A\\in\\mathbb{R}^{m\\times n}$, su transpuesta se escribe como $A^{T}\\in\\mathbb{R}^{n\\times m}$ y sus entradas están dadas por: \n",
        "\n",
        "\\begin{equation}\n",
        "\\left(A^{T}\\right)_{i,j}=A_{j,i}.\n",
        "\\end{equation}\n",
        "\n",
        "Las siguientes son propiedades de la transpuesta: \n",
        "\n",
        "- $\\left(A^{T}\\right)^{T}=A$\n",
        "- $\\left(AB\\right)^{T}=B^{T}A^{T}$\n",
        "- $\\left(A+B\\right)^{T}=A^{T}+B^{T}$.\n",
        "\n",
        "\n",
        "\n",
        "---\n",
        "\n",
        "\n",
        "\n",
        "Utilizando pytorch, genere dos matrices con datos aleatorios de dimensiones $A\\in\\mathbb{R}^{4\\times 3}$   y  $B\\in\\mathbb{R}^{3\\times 4}$  y muestre que la siguiente propiedad se cumple con las matrices propuestas.\n",
        "\n",
        "$\\left(AB\\right)^{T}=B^{T}A^{T}$\n",
        "\n",
        "**Nota:**. Para la demostración debe crear una función (con retorno falso o verdadero) que reciba una matriz y verifique que las igualdades se cumplen (5 puntos). Su función debe recibir **matrices de cualquier tamaño** y verificar que es posible realizar los cálculos requeridos con ellas (5 puntos). \n",
        "\n",
        "\n"
      ]
    },
    {
      "cell_type": "code",
      "source": [
        "import torch\n",
        "\n",
        "A = torch.rand((4, 3))\n",
        "\n",
        "B = torch.rand((3, 4))\n",
        "\n",
        "AB_transpose = torch.matmul(A, B).T\n",
        "\n",
        "\n",
        "def demostrar_propiedad(A, B):\n",
        "    \"\"\"\n",
        "    Función para demostrar la propiedad (AB)^T = B^T A^T para cualquier matriz A y B de dimensiones compatibles.\n",
        "    \n",
        "   \"\"\"\n",
        "    \n",
        "    # Verificamos dimensiones \n",
        "    if A.shape[1] != B.shape[0]:\n",
        "        print(\"Las dimensiones de las matrices no son diferentes.\")\n",
        "        return False\n",
        "    else:\n",
        "        # multiplicación de matrices y  transpuesta\n",
        "        AB_transpose = torch.matmul(A, B).T\n",
        "        BT_AT = torch.matmul(B.T, A.T)\n",
        "\n",
        "        # Comparamos los resultados\n",
        "        if torch.allclose(AB_transpose, BT_AT):\n",
        "            return True\n",
        "        else:\n",
        "            return False\n",
        "\n",
        "print(A)\n",
        "print(B)\n",
        "print(AB_transpose)\n",
        "\n",
        "print(\"prueba de propiedad de transpuesta: \", demostrar_propiedad(A, B))            "
      ],
      "metadata": {
        "colab": {
          "base_uri": "https://localhost:8080/"
        },
        "id": "YYWMal9HB-e7",
        "outputId": "1a9dab8b-747f-45fc-eec7-d1bec44138a3"
      },
      "execution_count": null,
      "outputs": [
        {
          "output_type": "stream",
          "name": "stdout",
          "text": [
            "tensor([[0.2224, 0.6026, 0.2191],\n",
            "        [0.7637, 0.1933, 0.0069],\n",
            "        [0.5842, 0.8492, 0.3653],\n",
            "        [0.7351, 0.2861, 0.8157]])\n",
            "tensor([[0.7441, 0.9698, 0.0687, 0.1000],\n",
            "        [0.0916, 0.0585, 0.8917, 0.5045],\n",
            "        [0.8097, 0.3896, 0.1338, 0.8832]])\n",
            "tensor([[0.3981, 0.5916, 0.8083, 1.2337],\n",
            "        [0.3363, 0.7547, 0.7586, 1.0475],\n",
            "        [0.5819, 0.2258, 0.8462, 0.4147],\n",
            "        [0.5198, 0.1800, 0.8095, 0.9383]])\n",
            "prueba de propiedad de transpuesta:  True\n"
          ]
        }
      ]
    },
    {
      "cell_type": "markdown",
      "metadata": {
        "id": "QJ6O85pM5Ns3"
      },
      "source": [
        "**Pregunta 2 (10 puntos, 5 puntos cada ejercicio)**\n",
        "\n",
        "\n",
        "Un conjunto de vectores $\\left\\{ \\vec{x}_{1},\\vec{x}_{2},\\ldots,\\vec{x}_{n}\\right\\} \\in\\mathbb{R}^{m}$ se dice que es linealmente independiente, si ningún vector de tal conjunto puede ser representado como una combinación lineal del resto de vectores. De lo contrario, si uno de los vectores en tal conjunto puede ser representado como una combinación lineal del resto de vectores, entonces los vectores son linealmente dependientes, lo que se expresa como: \n",
        "\n",
        "\\begin{equation}\n",
        "\\vec{x}_{j}=\\sum_{i=1}^{n-1}\\alpha_{i}\\vec{x}_{i}\n",
        "\\end{equation}\n",
        "\n",
        "para cualquier conjunto de valores escalares $\\alpha_{1},\\ldots,\\alpha_{n-1}\\in\\mathbb{R}$ se dice que el vector $\\vec{x}_{j}\\in\\mathbb{R}^{m}$ es linealmente dependiente de los vectores $\\vec{x}_{i}$. \n",
        "\n",
        "\n",
        "\n",
        "---\n",
        "\n",
        "**Pregunta 2.1** Proponga una matriz $A\\in\\mathbb{R}^{5\\times 5}$, que no sea la matriz identidad, de manera que dicha matriz sea de rango completo. Muestre con pytorch que cumple esta propiedad.\n",
        "\n",
        "**Pregunta 2.2** Ahora hágale cambios a su matriz de manera que sea de rango $3$, y luego más cambios para que sea de rango $2$. Muestre cómo va cambiando la matriz y el cálculo del rango en pytorch."
      ]
    },
    {
      "cell_type": "code",
      "source": [
        "# Ejercicio 2.1\n",
        "import torch\n",
        "A = torch.tensor([\n",
        "    [2, 3, 1, 5, 4],\n",
        "    [1, 5, 2, 3, 6],\n",
        "    [4, 1, 3, 2, 5],\n",
        "    [3, 2, 4, 1, 5],\n",
        "    [1, 4, 2, 5, 3]\n",
        "], dtype=torch.float)\n",
        "\n",
        "print(torch.linalg.matrix_rank(A)) # output: 5"
      ],
      "metadata": {
        "colab": {
          "base_uri": "https://localhost:8080/"
        },
        "id": "8EqRFURbHF8U",
        "outputId": "1b6adef8-081a-4329-8f22-bb60daf50146"
      },
      "execution_count": null,
      "outputs": [
        {
          "output_type": "stream",
          "name": "stdout",
          "text": [
            "tensor(5)\n"
          ]
        }
      ]
    },
    {
      "cell_type": "code",
      "source": [
        "# Ejercicio 2.2\n",
        "import torch\n",
        "\n",
        "A = torch.tensor([    [2, 3, 1, 5, 4],\n",
        "    [1, 5, 2, 3, 6],\n",
        "    [4, 1, 3, 2, 5],\n",
        "    [3, 2, 4, 1, 5],\n",
        "    [1, 4, 2, 5, 3]\n",
        "], dtype=torch.float)\n",
        "\n",
        "A[1] += A[0]\n",
        "A[2] += A[0]\n",
        "A[4] += A[3]\n",
        "\n",
        "print(A)\n",
        "print(torch.linalg.matrix_rank(A)) # output: 3"
      ],
      "metadata": {
        "colab": {
          "base_uri": "https://localhost:8080/"
        },
        "id": "EEX56KROHdya",
        "outputId": "2e25e56d-a4ed-48ef-9538-1b2b260375bd"
      },
      "execution_count": null,
      "outputs": [
        {
          "output_type": "stream",
          "name": "stdout",
          "text": [
            "tensor([[ 2.,  3.,  1.,  5.,  4.],\n",
            "        [ 3.,  8.,  3.,  8., 10.],\n",
            "        [ 6.,  4.,  4.,  7.,  9.],\n",
            "        [ 3.,  2.,  4.,  1.,  5.],\n",
            "        [ 4.,  6.,  6.,  6.,  8.]])\n",
            "tensor(5)\n"
          ]
        }
      ]
    },
    {
      "cell_type": "markdown",
      "metadata": {
        "id": "8SUJ4BrTV4yN"
      },
      "source": [
        "**Pregunta 3 (5 puntos)**\n",
        "\n",
        "Pseudo inversa de una matriz. La pseudo inversa es una generalización de una matriz inversa que permite calcular una aproximación a la inversa de una matriz, cuando A no es invertible.\n",
        "\n",
        "Sean las siguientes propiedades con $A\\in\\mathbb{R}^{m\\times n}$:\n",
        "\n",
        "1. $ \\left(A^{T}A\\right)^{-1}A^{T}\\approx A^{+} $\n",
        "2.  $\\left(A^{T}A\\right)^{+}A^{T}=A^{+}$\n",
        "\n",
        "Seleccione alguna de las propiedades anteriores, cree una función que reciba una matriz y demuestre que se cumple la propiedad seleccionada. \n",
        "\n",
        "Pruebe su función con una matriz invertible y con una no invertible. "
      ]
    },
    {
      "cell_type": "code",
      "source": [
        "import torch\n",
        "\n",
        "def pseudoinverse(A):\n",
        "    # calculamos (A^T A)+ y A^T\n",
        "    A_T = torch.transpose(A, 0, 1)\n",
        "    A_TA = torch.matmul(A_T, A)\n",
        "    A_TAp = torch.pinverse(A_TA)\n",
        "    \n",
        "    # calculamos A+\n",
        "    Ap = torch.matmul(A_TAp, A_T)\n",
        "    return Ap\n",
        "\n",
        "# ejemplo con matriz invertible\n",
        "A_invertible = torch.tensor([[1, 2, 3], [4, 5, 6], [7, 8, 10]], dtype=torch.float32)\n",
        "Ap_invertible = pseudoinverse(A_invertible)\n",
        "print(\"Matriz invertible A:\\n\", A_invertible)\n",
        "print(\"Pseudo-inversa de A:\\n\", Ap_invertible)\n",
        "print(\"Verificación de propiedad: \", torch.allclose(torch.matmul(Ap_invertible, A_invertible), torch.eye(3), rtol=1e-03, atol=1e-03))\n",
        "\n",
        "# ejemplo con matriz no invertible\n",
        "A_no_invertible = torch.tensor([[1, 2, 3], [4, 5, 6], [7, 8, 9]], dtype=torch.float32)\n",
        "Ap_no_invertible = pseudoinverse(A_no_invertible)\n",
        "print(\"Matriz no invertible A:\\n\", A_no_invertible)\n",
        "print(\"Pseudo-inversa de A:\\n\", Ap_no_invertible)\n",
        "print(\"Verificación de propiedad: \", torch.allclose(torch.matmul(Ap_no_invertible, A_no_invertible), torch.eye(3), rtol=1e-03, atol=1e-03))"
      ],
      "metadata": {
        "colab": {
          "base_uri": "https://localhost:8080/"
        },
        "id": "WBkcO6XmLMoF",
        "outputId": "a72f2eb1-7c51-44ea-adbe-5caff663c678"
      },
      "execution_count": null,
      "outputs": [
        {
          "output_type": "stream",
          "name": "stdout",
          "text": [
            "Matriz invertible A:\n",
            " tensor([[ 1.,  2.,  3.],\n",
            "        [ 4.,  5.,  6.],\n",
            "        [ 7.,  8., 10.]])\n",
            "Pseudo-inversa de A:\n",
            " tensor([[-0.6667, -1.3334,  1.0000],\n",
            "        [-0.6667,  3.6668, -2.0001],\n",
            "        [ 1.0000, -2.0000,  1.0000]])\n",
            "Verificación de propiedad:  True\n",
            "Matriz no invertible A:\n",
            " tensor([[1., 2., 3.],\n",
            "        [4., 5., 6.],\n",
            "        [7., 8., 9.]])\n",
            "Pseudo-inversa de A:\n",
            " tensor([[-0.0781, -0.0625,  0.0156],\n",
            "        [-1.2500, -0.3125,  0.6250],\n",
            "        [ 1.0938,  0.2812, -0.5938]])\n",
            "Verificación de propiedad:  False\n"
          ]
        }
      ]
    },
    {
      "cell_type": "markdown",
      "metadata": {
        "id": "Ih1tJC5BB1DR"
      },
      "source": [
        "**Pregunta 4 (10 puntos, 5 puntos cada ejercicio)**\n",
        "\n",
        "Sea $A\\in\\mathbb{R}^{n\\times n}$, realice lo siguiente:\n",
        "\n",
        "---\n",
        "\n",
        "**Pregunta 4.1**\n",
        "\n",
        "Defina la función es_simetrica_o_antisimetrica que reciba una matriz, verifique si esta es cuadrada y despliegue un mensaje indicando si la matriz es simétrica, antisimétrica o ninguna de las anteriores. \n",
        "\n",
        "**Pregunta 4.2**\n",
        "\n",
        "Utilizando la función es_simetrica_o_antisimetrica muestre que la matriz resultante de la operación $A+A^{T}$ es simétrica y la matriz $A-A^{T}$ es anti-simétrica para cualquier matriz $A\\in\\mathbb{R}^{n\\times n}$.\n"
      ]
    },
    {
      "cell_type": "code",
      "source": [
        "import torch\n",
        "\n",
        "A = torch.tensor([\n",
        "    [2, 3, 1, 5, 4],\n",
        "    [1, 5, 2, 3, 6],\n",
        "    [4, 1, 3, 2, 5],\n",
        "    [3, 2, 4, 1, 5],\n",
        "    [1, 4, 2, 5, 3]\n",
        "], dtype=torch.float)\n",
        "\n",
        "B = torch.tensor([\n",
        "    [1, 2, 3],\n",
        "    [2, 4, 5],\n",
        "    [3, 5, 6]])\n",
        "\n",
        "C = torch.tensor([\n",
        "    [0, 3, 9],\n",
        "    [-3, 0, -5],\n",
        "    [-9, 5, 0]])\n",
        "\n",
        "def es_simetrica_o_antisimetrica(A):\n",
        "    \"\"\"\n",
        "    Reciba una matriz, verifique si esta es cuadrada y despliegue un mensaje indicando si la matriz es simétrica, antisimétrica o ninguna de las anteriores\n",
        "    \"\"\"\n",
        "    \n",
        "    if A.shape[0] != A.shape[1]:\n",
        "        return \"La matriz debe ser cuadrada cuadrada.\"\n",
        "    else:\n",
        "        # Verificamos si la matriz es simétrica o antisimétrica\n",
        "        if torch.allclose(A, A.T):\n",
        "            return \"Es simétrica.\"\n",
        "        elif torch.allclose(A, -A.T):\n",
        "            return \"Es antisimétrica.\"\n",
        "        else:\n",
        "            return \"Ni simétrica ni antisimétrica.\"\n",
        "\n",
        "print(A)\n",
        "print(es_simetrica_o_antisimetrica(A))\n",
        "print(B)\n",
        "print(es_simetrica_o_antisimetrica(B))\n",
        "print(C)\n",
        "print(es_simetrica_o_antisimetrica(C))"
      ],
      "metadata": {
        "colab": {
          "base_uri": "https://localhost:8080/"
        },
        "id": "MPIRHS6HIX1U",
        "outputId": "aaab28f5-bbdf-4d2a-d61f-619f6ce97da3"
      },
      "execution_count": null,
      "outputs": [
        {
          "output_type": "stream",
          "name": "stdout",
          "text": [
            "tensor([[2., 3., 1., 5., 4.],\n",
            "        [1., 5., 2., 3., 6.],\n",
            "        [4., 1., 3., 2., 5.],\n",
            "        [3., 2., 4., 1., 5.],\n",
            "        [1., 4., 2., 5., 3.]])\n",
            "Ni simétrica ni antisimétrica.\n",
            "tensor([[1, 2, 3],\n",
            "        [2, 4, 5],\n",
            "        [3, 5, 6]])\n",
            "Es simétrica.\n",
            "tensor([[ 0,  3,  9],\n",
            "        [-3,  0, -5],\n",
            "        [-9,  5,  0]])\n",
            "Es antisimétrica.\n"
          ]
        }
      ]
    },
    {
      "cell_type": "code",
      "execution_count": null,
      "metadata": {
        "id": "UvcZ8LNeB1DS",
        "colab": {
          "base_uri": "https://localhost:8080/"
        },
        "outputId": "8ad7f40d-b712-4bb5-f8b7-cf0a540a53d3"
      },
      "outputs": [
        {
          "output_type": "stream",
          "name": "stdout",
          "text": [
            "La matriz es simétrica.\n",
            "La matriz es antisimétrica.\n"
          ]
        }
      ],
      "source": [
        "A = torch.rand(3, 3)\n",
        "\n",
        "B = A + A.T\n",
        "\n",
        "print(es_simetrica_o_antisimetrica(B))\n",
        "\n",
        "C = A - A.T\n",
        "\n",
        "print(es_simetrica_o_antisimetrica(C))"
      ]
    }
  ],
  "metadata": {
    "colab": {
      "provenance": []
    },
    "kernelspec": {
      "display_name": "Python 3 (ipykernel)",
      "language": "python",
      "name": "python3"
    },
    "language_info": {
      "codemirror_mode": {
        "name": "ipython",
        "version": 3
      },
      "file_extension": ".py",
      "mimetype": "text/x-python",
      "name": "python",
      "nbconvert_exporter": "python",
      "pygments_lexer": "ipython3",
      "version": "3.9.15"
    }
  },
  "nbformat": 4,
  "nbformat_minor": 0
}